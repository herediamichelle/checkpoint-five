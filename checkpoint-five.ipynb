{
 "cells": [
  {
   "cell_type": "markdown",
   "metadata": {
    "azdata_cell_guid": "c9a57f69-e372-43d2-94fc-ab1a9097069f"
   },
   "source": [
    "# Checkpoint Five: Modeling Data\n",
    "\n",
    "With your visualizations ready to go, the final step in your project is to do some predictive analysis on your dataset. You will be using linear regression for your model. You will not be penalized if your linear regression model does not work out. You just need to build the model and make notes as to the results.\n",
    "\n",
    "Link to my dataset:\n",
    "\n",
    "## Prepare Your Dataframe\n",
    "\n",
    "Import any libraries you need and create a dataframe."
   ]
  },
  {
   "cell_type": "code",
   "execution_count": 4,
   "metadata": {
    "azdata_cell_guid": "f9287db4-8af9-4bce-9a54-ffeeee0e045f"
   },
   "outputs": [
    {
     "data": {
      "text/html": [
       "<div>\n",
       "<style scoped>\n",
       "    .dataframe tbody tr th:only-of-type {\n",
       "        vertical-align: middle;\n",
       "    }\n",
       "\n",
       "    .dataframe tbody tr th {\n",
       "        vertical-align: top;\n",
       "    }\n",
       "\n",
       "    .dataframe thead th {\n",
       "        text-align: right;\n",
       "    }\n",
       "</style>\n",
       "<table border=\"1\" class=\"dataframe\">\n",
       "  <thead>\n",
       "    <tr style=\"text-align: right;\">\n",
       "      <th></th>\n",
       "      <th>work_year</th>\n",
       "      <th>experience_level</th>\n",
       "      <th>employment_type</th>\n",
       "      <th>job_title</th>\n",
       "      <th>salary</th>\n",
       "      <th>salary_currency</th>\n",
       "      <th>salary_in_usd</th>\n",
       "      <th>employee_residence</th>\n",
       "      <th>remote_ratio</th>\n",
       "      <th>company_location</th>\n",
       "      <th>company_size</th>\n",
       "    </tr>\n",
       "  </thead>\n",
       "  <tbody>\n",
       "    <tr>\n",
       "      <th>0</th>\n",
       "      <td>2023</td>\n",
       "      <td>SE</td>\n",
       "      <td>FT</td>\n",
       "      <td>Principal Data Scientist</td>\n",
       "      <td>80000</td>\n",
       "      <td>EUR</td>\n",
       "      <td>85847</td>\n",
       "      <td>ES</td>\n",
       "      <td>100</td>\n",
       "      <td>ES</td>\n",
       "      <td>L</td>\n",
       "    </tr>\n",
       "    <tr>\n",
       "      <th>1</th>\n",
       "      <td>2023</td>\n",
       "      <td>MI</td>\n",
       "      <td>CT</td>\n",
       "      <td>ML Engineer</td>\n",
       "      <td>30000</td>\n",
       "      <td>USD</td>\n",
       "      <td>30000</td>\n",
       "      <td>US</td>\n",
       "      <td>100</td>\n",
       "      <td>US</td>\n",
       "      <td>S</td>\n",
       "    </tr>\n",
       "    <tr>\n",
       "      <th>2</th>\n",
       "      <td>2023</td>\n",
       "      <td>MI</td>\n",
       "      <td>CT</td>\n",
       "      <td>ML Engineer</td>\n",
       "      <td>25500</td>\n",
       "      <td>USD</td>\n",
       "      <td>25500</td>\n",
       "      <td>US</td>\n",
       "      <td>100</td>\n",
       "      <td>US</td>\n",
       "      <td>S</td>\n",
       "    </tr>\n",
       "    <tr>\n",
       "      <th>3</th>\n",
       "      <td>2023</td>\n",
       "      <td>SE</td>\n",
       "      <td>FT</td>\n",
       "      <td>Data Scientist</td>\n",
       "      <td>175000</td>\n",
       "      <td>USD</td>\n",
       "      <td>175000</td>\n",
       "      <td>CA</td>\n",
       "      <td>100</td>\n",
       "      <td>CA</td>\n",
       "      <td>M</td>\n",
       "    </tr>\n",
       "    <tr>\n",
       "      <th>4</th>\n",
       "      <td>2023</td>\n",
       "      <td>SE</td>\n",
       "      <td>FT</td>\n",
       "      <td>Data Scientist</td>\n",
       "      <td>120000</td>\n",
       "      <td>USD</td>\n",
       "      <td>120000</td>\n",
       "      <td>CA</td>\n",
       "      <td>100</td>\n",
       "      <td>CA</td>\n",
       "      <td>M</td>\n",
       "    </tr>\n",
       "  </tbody>\n",
       "</table>\n",
       "</div>"
      ],
      "text/plain": [
       "   work_year experience_level employment_type                 job_title  \\\n",
       "0       2023               SE              FT  Principal Data Scientist   \n",
       "1       2023               MI              CT               ML Engineer   \n",
       "2       2023               MI              CT               ML Engineer   \n",
       "3       2023               SE              FT            Data Scientist   \n",
       "4       2023               SE              FT            Data Scientist   \n",
       "\n",
       "   salary salary_currency  salary_in_usd employee_residence  remote_ratio  \\\n",
       "0   80000             EUR          85847                 ES           100   \n",
       "1   30000             USD          30000                 US           100   \n",
       "2   25500             USD          25500                 US           100   \n",
       "3  175000             USD         175000                 CA           100   \n",
       "4  120000             USD         120000                 CA           100   \n",
       "\n",
       "  company_location company_size  \n",
       "0               ES            L  \n",
       "1               US            S  \n",
       "2               US            S  \n",
       "3               CA            M  \n",
       "4               CA            M  "
      ]
     },
     "execution_count": 4,
     "metadata": {},
     "output_type": "execute_result"
    }
   ],
   "source": [
    "import pandas as pd\n",
    "import matplotlib.pyplot as plt \n",
    "import seaborn as sns\n",
    "ds_df = pd.read_csv(\"ds_salaries.csv\")\n",
    "ds_df.head()"
   ]
  },
  {
   "cell_type": "markdown",
   "metadata": {
    "azdata_cell_guid": "d794ffe0-9cd3-4812-bc7d-f75460cf611c"
   },
   "source": [
    "## Find Correlations\n",
    "\n",
    "Use either pairplot or a heatmap or both to find the two variables with the strongest correlation in your dataset."
   ]
  },
  {
   "cell_type": "code",
   "execution_count": 22,
   "metadata": {
    "azdata_cell_guid": "b009376d-9eb1-4cf0-9487-f0ddc3dbc1cd"
   },
   "outputs": [
    {
     "data": {
      "image/png": "[encoded data removed]",
      "text/plain": [
       "<Figure size 576x288 with 2 Axes>"
      ]
     },
     "metadata": {
      "needs_background": "light"
     },
     "output_type": "display_data"
    },
    {
     "data": {
      "image/png": "[encoded data removed]",
      "text/plain": [
       "<Figure size 432x288 with 2 Axes>"
      ]
     },
     "metadata": {
      "needs_background": "light"
     },
     "output_type": "display_data"
    }
   ],
   "source": [
    "sns.pairplot(ds_df,x_vars=['work_year', 'remote_ratio'], \n",
    "             y_vars='salary_in_usd', height=4, aspect=1, kind='scatter')\n",
    "plt.show()\n",
    "sns.heatmap(ds_df.corr(), annot = True)\n",
    "plt.show()\n",
    "# It is harder to tell from the pair plot and a bit more clear with the heat map, but \n",
    "#it looks like salary is correlated with the work year"
   ]
  },
  {
   "cell_type": "markdown",
   "metadata": {
    "azdata_cell_guid": "b75b6098-4152-4701-9136-a8f774c8583e"
   },
   "source": [
    "## Create Your Model\n",
    "\n",
    "Use the two columns with the strongest correlation to create and train your model. Make sure to print out the summary and plot the column values and the line produced by the model."
   ]
  },
  {
   "cell_type": "code",
   "execution_count": 42,
   "metadata": {
    "azdata_cell_guid": "05ecd9c7-e4a4-4d5c-b092-3dff597e96a3"
   },
   "outputs": [
    {
     "data": {
      "text/html": [
       "<table class=\"simpletable\">\n",
       "<caption>OLS Regression Results</caption>\n",
       "<tr>\n",
       "  <th>Dep. Variable:</th>      <td>salary_in_usd</td>  <th>  R-squared:         </th> <td>   0.049</td> \n",
       "</tr>\n",
       "<tr>\n",
       "  <th>Model:</th>                   <td>OLS</td>       <th>  Adj. R-squared:    </th> <td>   0.049</td> \n",
       "</tr>\n",
       "<tr>\n",
       "  <th>Method:</th>             <td>Least Squares</td>  <th>  F-statistic:       </th> <td>   145.3</td> \n",
       "</tr>\n",
       "<tr>\n",
       "  <th>Date:</th>             <td>Sun, 08 Oct 2023</td> <th>  Prob (F-statistic):</th> <td>1.16e-32</td> \n",
       "</tr>\n",
       "<tr>\n",
       "  <th>Time:</th>                 <td>19:44:57</td>     <th>  Log-Likelihood:    </th> <td> -35029.</td> \n",
       "</tr>\n",
       "<tr>\n",
       "  <th>No. Observations:</th>      <td>  2816</td>      <th>  AIC:               </th> <td>7.006e+04</td>\n",
       "</tr>\n",
       "<tr>\n",
       "  <th>Df Residuals:</th>          <td>  2814</td>      <th>  BIC:               </th> <td>7.007e+04</td>\n",
       "</tr>\n",
       "<tr>\n",
       "  <th>Df Model:</th>              <td>     1</td>      <th>                     </th>     <td> </td>    \n",
       "</tr>\n",
       "<tr>\n",
       "  <th>Covariance Type:</th>      <td>nonrobust</td>    <th>                     </th>     <td> </td>    \n",
       "</tr>\n",
       "</table>\n",
       "<table class=\"simpletable\">\n",
       "<tr>\n",
       "      <td></td>         <th>coef</th>     <th>std err</th>      <th>t</th>      <th>P>|t|</th>  <th>[0.025</th>    <th>0.975]</th>  \n",
       "</tr>\n",
       "<tr>\n",
       "  <th>const</th>     <td> -4.02e+07</td> <td> 3.35e+06</td> <td>  -12.013</td> <td> 0.000</td> <td>-4.68e+07</td> <td>-3.36e+07</td>\n",
       "</tr>\n",
       "<tr>\n",
       "  <th>work_year</th> <td> 1.995e+04</td> <td> 1654.875</td> <td>   12.054</td> <td> 0.000</td> <td> 1.67e+04</td> <td> 2.32e+04</td>\n",
       "</tr>\n",
       "</table>\n",
       "<table class=\"simpletable\">\n",
       "<tr>\n",
       "  <th>Omnibus:</th>       <td>251.303</td> <th>  Durbin-Watson:     </th> <td>   2.025</td>\n",
       "</tr>\n",
       "<tr>\n",
       "  <th>Prob(Omnibus):</th> <td> 0.000</td>  <th>  Jarque-Bera (JB):  </th> <td> 400.838</td>\n",
       "</tr>\n",
       "<tr>\n",
       "  <th>Skew:</th>          <td> 0.660</td>  <th>  Prob(JB):          </th> <td>9.10e-88</td>\n",
       "</tr>\n",
       "<tr>\n",
       "  <th>Kurtosis:</th>      <td> 4.293</td>  <th>  Cond. No.          </th> <td>5.88e+06</td>\n",
       "</tr>\n",
       "</table><br/><br/>Notes:<br/>[1] Standard Errors assume that the covariance matrix of the errors is correctly specified.<br/>[2] The condition number is large, 5.88e+06. This might indicate that there are<br/>strong multicollinearity or other numerical problems."
      ],
      "text/plain": [
       "<class 'statsmodels.iolib.summary.Summary'>\n",
       "\"\"\"\n",
       "                            OLS Regression Results                            \n",
       "==============================================================================\n",
       "Dep. Variable:          salary_in_usd   R-squared:                       0.049\n",
       "Model:                            OLS   Adj. R-squared:                  0.049\n",
       "Method:                 Least Squares   F-statistic:                     145.3\n",
       "Date:                Sun, 08 Oct 2023   Prob (F-statistic):           1.16e-32\n",
       "Time:                        19:44:57   Log-Likelihood:                -35029.\n",
       "No. Observations:                2816   AIC:                         7.006e+04\n",
       "Df Residuals:                    2814   BIC:                         7.007e+04\n",
       "Df Model:                           1                                         \n",
       "Covariance Type:            nonrobust                                         \n",
       "==============================================================================\n",
       "                 coef    std err          t      P>|t|      [0.025      0.975]\n",
       "------------------------------------------------------------------------------\n",
       "const       -4.02e+07   3.35e+06    -12.013      0.000   -4.68e+07   -3.36e+07\n",
       "work_year   1.995e+04   1654.875     12.054      0.000    1.67e+04    2.32e+04\n",
       "==============================================================================\n",
       "Omnibus:                      251.303   Durbin-Watson:                   2.025\n",
       "Prob(Omnibus):                  0.000   Jarque-Bera (JB):              400.838\n",
       "Skew:                           0.660   Prob(JB):                     9.10e-88\n",
       "Kurtosis:                       4.293   Cond. No.                     5.88e+06\n",
       "==============================================================================\n",
       "\n",
       "Notes:\n",
       "[1] Standard Errors assume that the covariance matrix of the errors is correctly specified.\n",
       "[2] The condition number is large, 5.88e+06. This might indicate that there are\n",
       "strong multicollinearity or other numerical problems.\n",
       "\"\"\""
      ]
     },
     "execution_count": 42,
     "metadata": {},
     "output_type": "execute_result"
    }
   ],
   "source": [
    "X = ds_df['work_year']\n",
    "Y = ds_df['salary_in_usd']\n",
    "from sklearn.model_selection import train_test_split\n",
    "X_train, X_test, Y_train, Y_test = train_test_split(X, Y)\n",
    "X_train\n",
    "Y_train\n",
    "\n",
    "\n",
    "import statsmodels.api as sm\n",
    "\n",
    "\n",
    "\n",
    "X_train_sm = sm.add_constant(X_train)\n",
    "\n",
    "lr = sm.OLS(Y_train, X_train_sm).fit()\n",
    "\n",
    "lr.params\n",
    "lr.summary()"
   ]
  },
  {
   "cell_type": "code",
   "execution_count": 44,
   "metadata": {
    "azdata_cell_guid": "f55fbe86-74b8-44f7-af96-7448e58983d7",
    "tags": []
   },
   "outputs": [
    {
     "data": {
      "image/png": "[encoded data removed]",
      "text/plain": [
       "<Figure size 432x288 with 1 Axes>"
      ]
     },
     "metadata": {
      "needs_background": "light"
     },
     "output_type": "display_data"
    }
   ],
   "source": [
    "plt.scatter(X_train, Y_train)\n",
    "plt.plot(X_train, -40200000  + 19950*X_train, 'r')\n",
    "plt.show()"
   ]
  },
  {
   "cell_type": "markdown",
   "metadata": {
    "azdata_cell_guid": "c021f50d-92b2-4359-b3a9-c47f62f0a94f"
   },
   "source": [
    "## Error Terms\n",
    "\n",
    "Finally, plot your error terms!"
   ]
  },
  {
   "cell_type": "code",
   "execution_count": 38,
   "metadata": {
    "azdata_cell_guid": "87480c6c-1bb6-4135-953a-c74ba3da518d"
   },
   "outputs": [
    {
     "data": {
      "image/png": "[encoded data removed]",
      "text/plain": [
       "<Figure size 432x288 with 1 Axes>"
      ]
     },
     "metadata": {
      "needs_background": "light"
     },
     "output_type": "display_data"
    }
   ],
   "source": [
    "Y_train_pred = lr.predict(X_train_sm)\n",
    "\n",
    "# Creating residuals from the Y_train data and predicted Y_data\n",
    "res = (Y_train - Y_train_pred)\n",
    "fig = plt.figure()\n",
    "sns.histplot(res, bins = 15)\n",
    "plt.title('Error Terms', fontsize = 15)\n",
    "plt.xlabel('Y_train - Y_train_pred', fontsize = 15)\n",
    "plt.show()"
   ]
  },
  {
   "cell_type": "markdown",
   "metadata": {
    "azdata_cell_guid": "5fc50d24-c873-4801-87f2-a1e518caf424"
   },
   "source": [
    "## Summarize Your Work\n",
    "\n",
    "Make notes of your answers to the questions below.\n",
    "\n",
    "1. What was your R-squared value? 0.049 (not very correlated). It makes sense there is a slight increase, however, because of inflation. It seems about the same amount as inflation as well (it would make an interesting analysis to see if it has kept up with the average US/GB inflation).\n",
    "2. Based on your results, do you think a linear regression model was the best type of predictive analysis for your dataset? There is a slight correlation using linear analysis, but I think another model would have worked better (relationship may be better described with polynomial, etc.).\n",
    "3. Was your plot of the error terms a bell curve? Yes it was"
   ]
  }
 ],
 "metadata": {
  "kernelspec": {
   "display_name": "anaconda-2022.05-py39",
   "language": "python",
   "name": "conda-env-anaconda-2022.05-py39-py"
  },
  "language_info": {
   "codemirror_mode": {
    "name": "ipython",
    "version": 3
   },
   "file_extension": ".py",
   "mimetype": "text/x-python",
   "name": "python",
   "nbconvert_exporter": "python",
   "pygments_lexer": "ipython3",
   "version": "3.9.12"
  }
 },
 "nbformat": 4,
 "nbformat_minor": 4
}
